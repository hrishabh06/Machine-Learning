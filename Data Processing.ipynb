{
 "cells": [
  {
   "cell_type": "code",
   "execution_count": null,
   "metadata": {},
   "outputs": [],
   "source": [
    "pip install numpy\n",
    "\n",
    "pip install pandas\n",
    "\n",
    "pip install matplotlib\n",
    "\n",
    "pip install sklearn"
   ]
  },
  {
   "cell_type": "code",
   "execution_count": 18,
   "metadata": {},
   "outputs": [
    {
     "name": "stdout",
     "output_type": "stream",
     "text": [
      "Collecting scikit-learn\n",
      "  Downloading scikit_learn-1.4.1.post1-cp310-cp310-win_amd64.whl (10.6 MB)\n",
      "     ---------------------------------------- 0.0/10.6 MB ? eta -:--:--\n",
      "     ---------------------------------------- 0.1/10.6 MB 3.3 MB/s eta 0:00:04\n",
      "     - -------------------------------------- 0.5/10.6 MB 6.2 MB/s eta 0:00:02\n",
      "     ---- ----------------------------------- 1.3/10.6 MB 10.5 MB/s eta 0:00:01\n",
      "     -------- ------------------------------- 2.2/10.6 MB 12.7 MB/s eta 0:00:01\n",
      "     ----------- ---------------------------- 3.1/10.6 MB 14.1 MB/s eta 0:00:01\n",
      "     -------------- ------------------------- 4.0/10.6 MB 14.8 MB/s eta 0:00:01\n",
      "     ----------------- ---------------------- 4.8/10.6 MB 15.2 MB/s eta 0:00:01\n",
      "     --------------------- ------------------ 5.7/10.6 MB 15.8 MB/s eta 0:00:01\n",
      "     ------------------------ --------------- 6.6/10.6 MB 16.2 MB/s eta 0:00:01\n",
      "     ---------------------------- ----------- 7.5/10.6 MB 16.5 MB/s eta 0:00:01\n",
      "     ------------------------------- -------- 8.4/10.6 MB 16.9 MB/s eta 0:00:01\n",
      "     ----------------------------------- ---- 9.3/10.6 MB 17.0 MB/s eta 0:00:01\n",
      "     ------------------------------------- - 10.2/10.6 MB 17.6 MB/s eta 0:00:01\n",
      "     --------------------------------------  10.6/10.6 MB 18.7 MB/s eta 0:00:01\n",
      "     --------------------------------------  10.6/10.6 MB 18.7 MB/s eta 0:00:01\n",
      "     --------------------------------------  10.6/10.6 MB 18.7 MB/s eta 0:00:01\n",
      "     --------------------------------------- 10.6/10.6 MB 14.9 MB/s eta 0:00:00\n",
      "Collecting scipy>=1.6.0\n",
      "  Downloading scipy-1.13.0-cp310-cp310-win_amd64.whl (46.2 MB)\n",
      "     ---------------------------------------- 0.0/46.2 MB ? eta -:--:--\n",
      "      --------------------------------------- 1.0/46.2 MB 33.0 MB/s eta 0:00:02\n",
      "     - -------------------------------------- 1.7/46.2 MB 21.1 MB/s eta 0:00:03\n",
      "     -- ------------------------------------- 2.4/46.2 MB 18.8 MB/s eta 0:00:03\n",
      "     -- ------------------------------------- 3.1/46.2 MB 19.9 MB/s eta 0:00:03\n",
      "     --- ------------------------------------ 4.0/46.2 MB 18.3 MB/s eta 0:00:03\n",
      "     ---- ----------------------------------- 4.9/46.2 MB 18.5 MB/s eta 0:00:03\n",
      "     ---- ----------------------------------- 5.6/46.2 MB 17.9 MB/s eta 0:00:03\n",
      "     ----- ---------------------------------- 6.5/46.2 MB 18.0 MB/s eta 0:00:03\n",
      "     ------ --------------------------------- 7.4/46.2 MB 18.1 MB/s eta 0:00:03\n",
      "     ------- -------------------------------- 8.3/46.2 MB 18.3 MB/s eta 0:00:03\n",
      "     ------- -------------------------------- 9.2/46.2 MB 18.5 MB/s eta 0:00:03\n",
      "     -------- ------------------------------ 10.1/46.2 MB 18.5 MB/s eta 0:00:02\n",
      "     --------- ----------------------------- 11.1/46.2 MB 18.2 MB/s eta 0:00:02\n",
      "     ---------- ---------------------------- 11.9/46.2 MB 18.7 MB/s eta 0:00:02\n",
      "     ---------- ---------------------------- 12.9/46.2 MB 19.2 MB/s eta 0:00:02\n",
      "     ----------- --------------------------- 13.8/46.2 MB 19.3 MB/s eta 0:00:02\n",
      "     ------------ -------------------------- 14.7/46.2 MB 19.3 MB/s eta 0:00:02\n",
      "     ------------- ------------------------- 15.4/46.2 MB 19.3 MB/s eta 0:00:02\n",
      "     ------------- ------------------------- 16.3/46.2 MB 19.8 MB/s eta 0:00:02\n",
      "     -------------- ------------------------ 17.2/46.2 MB 19.8 MB/s eta 0:00:02\n",
      "     --------------- ----------------------- 18.2/46.2 MB 19.8 MB/s eta 0:00:02\n",
      "     ---------------- ---------------------- 19.1/46.2 MB 19.2 MB/s eta 0:00:02\n",
      "     ---------------- ---------------------- 20.0/46.2 MB 19.2 MB/s eta 0:00:02\n",
      "     ----------------- --------------------- 21.0/46.2 MB 19.9 MB/s eta 0:00:02\n",
      "     ------------------ -------------------- 21.9/46.2 MB 19.3 MB/s eta 0:00:02\n",
      "     ------------------- ------------------- 22.8/46.2 MB 19.3 MB/s eta 0:00:02\n",
      "     ------------------- ------------------- 23.6/46.2 MB 19.9 MB/s eta 0:00:02\n",
      "     -------------------- ------------------ 24.6/46.2 MB 19.9 MB/s eta 0:00:02\n",
      "     --------------------- ----------------- 25.4/46.2 MB 19.3 MB/s eta 0:00:02\n",
      "     ---------------------- ---------------- 26.3/46.2 MB 19.8 MB/s eta 0:00:02\n",
      "     ---------------------- ---------------- 27.2/46.2 MB 19.8 MB/s eta 0:00:01\n",
      "     ----------------------- --------------- 27.9/46.2 MB 19.3 MB/s eta 0:00:01\n",
      "     ------------------------ -------------- 28.8/46.2 MB 19.2 MB/s eta 0:00:01\n",
      "     ------------------------- ------------- 29.8/46.2 MB 19.2 MB/s eta 0:00:01\n",
      "     ------------------------- ------------- 30.6/46.2 MB 19.3 MB/s eta 0:00:01\n",
      "     -------------------------- ------------ 31.4/46.2 MB 18.7 MB/s eta 0:00:01\n",
      "     --------------------------- ----------- 32.3/46.2 MB 18.7 MB/s eta 0:00:01\n",
      "     --------------------------- ----------- 33.1/46.2 MB 18.7 MB/s eta 0:00:01\n",
      "     ---------------------------- ---------- 34.0/46.2 MB 18.7 MB/s eta 0:00:01\n",
      "     ----------------------------- --------- 34.9/46.2 MB 18.7 MB/s eta 0:00:01\n",
      "     ------------------------------ -------- 35.8/46.2 MB 18.7 MB/s eta 0:00:01\n",
      "     ------------------------------ -------- 36.7/46.2 MB 18.7 MB/s eta 0:00:01\n",
      "     ------------------------------- ------- 37.6/46.2 MB 18.7 MB/s eta 0:00:01\n",
      "     -------------------------------- ------ 38.5/46.2 MB 18.7 MB/s eta 0:00:01\n",
      "     --------------------------------- ----- 39.3/46.2 MB 18.7 MB/s eta 0:00:01\n",
      "     --------------------------------- ----- 40.3/46.2 MB 18.7 MB/s eta 0:00:01\n",
      "     ---------------------------------- ---- 41.2/46.2 MB 18.7 MB/s eta 0:00:01\n",
      "     ----------------------------------- --- 42.1/46.2 MB 19.3 MB/s eta 0:00:01\n",
      "     ------------------------------------ -- 43.0/46.2 MB 19.2 MB/s eta 0:00:01\n",
      "     ------------------------------------- - 43.9/46.2 MB 19.8 MB/s eta 0:00:01\n",
      "     ------------------------------------- - 44.8/46.2 MB 19.8 MB/s eta 0:00:01\n",
      "     --------------------------------------  45.6/46.2 MB 19.8 MB/s eta 0:00:01\n",
      "     --------------------------------------  46.2/46.2 MB 19.3 MB/s eta 0:00:01\n",
      "     --------------------------------------  46.2/46.2 MB 19.3 MB/s eta 0:00:01\n",
      "     --------------------------------------  46.2/46.2 MB 19.3 MB/s eta 0:00:01\n",
      "     --------------------------------------  46.2/46.2 MB 19.3 MB/s eta 0:00:01\n",
      "     --------------------------------------  46.2/46.2 MB 19.3 MB/s eta 0:00:01\n",
      "     --------------------------------------  46.2/46.2 MB 19.3 MB/s eta 0:00:01\n",
      "     --------------------------------------  46.2/46.2 MB 19.3 MB/s eta 0:00:01\n",
      "     --------------------------------------  46.2/46.2 MB 19.3 MB/s eta 0:00:01\n",
      "     --------------------------------------  46.2/46.2 MB 19.3 MB/s eta 0:00:01\n",
      "     --------------------------------------  46.2/46.2 MB 19.3 MB/s eta 0:00:01\n",
      "     ---------------------------------------- 46.2/46.2 MB 9.9 MB/s eta 0:00:00\n",
      "Collecting threadpoolctl>=2.0.0\n",
      "  Downloading threadpoolctl-3.4.0-py3-none-any.whl (17 kB)\n",
      "Collecting joblib>=1.2.0\n",
      "  Downloading joblib-1.3.2-py3-none-any.whl (302 kB)\n",
      "     ---------------------------------------- 0.0/302.2 kB ? eta -:--:--\n",
      "     -------------------------------------- 302.2/302.2 kB 9.1 MB/s eta 0:00:00\n",
      "Requirement already satisfied: numpy<2.0,>=1.19.5 in c:\\users\\a5149\\appdata\\local\\packages\\pythonsoftwarefoundation.python.3.10_qbz5n2kfra8p0\\localcache\\local-packages\\python310\\site-packages (from scikit-learn) (1.26.4)\n",
      "Installing collected packages: threadpoolctl, scipy, joblib, scikit-learn\n",
      "Successfully installed joblib-1.3.2 scikit-learn-1.4.1.post1 scipy-1.13.0 threadpoolctl-3.4.0\n",
      "Note: you may need to restart the kernel to use updated packages.\n"
     ]
    },
    {
     "name": "stderr",
     "output_type": "stream",
     "text": [
      "\n",
      "[notice] A new release of pip is available: 23.0.1 -> 24.0\n",
      "[notice] To update, run: C:\\Users\\A5149\\AppData\\Local\\Microsoft\\WindowsApps\\PythonSoftwareFoundation.Python.3.10_qbz5n2kfra8p0\\python.exe -m pip install --upgrade pip\n"
     ]
    }
   ],
   "source": [
    "pip install scikit-learn"
   ]
  },
  {
   "cell_type": "markdown",
   "metadata": {},
   "source": [
    "Data Preprocessing"
   ]
  },
  {
   "cell_type": "code",
   "execution_count": 2,
   "metadata": {},
   "outputs": [],
   "source": [
    "# Importing Libraries\n",
    "\n",
    "import numpy as np\n",
    "import matplotlib.pyplot as plt\n",
    "import pandas as pd"
   ]
  },
  {
   "cell_type": "code",
   "execution_count": 4,
   "metadata": {},
   "outputs": [
    {
     "name": "stdout",
     "output_type": "stream",
     "text": [
      "   Country   Age   Salary Purchased\n",
      "0   France  44.0  72000.0        No\n",
      "1    Spain  27.0  48000.0       Yes\n",
      "2  Germany  30.0  54000.0        No\n",
      "3    Spain  38.0  61000.0        No\n",
      "4  Germany  40.0      NaN       Yes\n",
      "5   France  35.0  58000.0       Yes\n",
      "6    Spain   NaN  52000.0        No\n",
      "7   France  48.0  79000.0       Yes\n",
      "8  Germany  50.0  83000.0        No\n",
      "9   France  37.0  67000.0       Yes\n",
      "X =  [['France' 44.0 72000.0]\n",
      " ['Spain' 27.0 48000.0]\n",
      " ['Germany' 30.0 54000.0]\n",
      " ['Spain' 38.0 61000.0]\n",
      " ['Germany' 40.0 nan]\n",
      " ['France' 35.0 58000.0]\n",
      " ['Spain' nan 52000.0]\n",
      " ['France' 48.0 79000.0]\n",
      " ['Germany' 50.0 83000.0]\n",
      " ['France' 37.0 67000.0]]\n",
      "Y =  ['No' 'Yes' 'No' 'No' 'Yes' 'Yes' 'No' 'Yes' 'No' 'Yes']\n"
     ]
    }
   ],
   "source": [
    "# Importing dataset\n",
    "\n",
    "dataset = pd.read_csv('Data.csv')\n",
    "print(dataset)\n",
    "X = dataset.iloc[:,:-1].values\n",
    "Y = dataset.iloc[:,-1].values\n",
    "print(\"X = \",X)\n",
    "print(\"Y = \",Y)"
   ]
  },
  {
   "cell_type": "code",
   "execution_count": 5,
   "metadata": {},
   "outputs": [
    {
     "name": "stdout",
     "output_type": "stream",
     "text": [
      "[['France' 44.0 72000.0]\n",
      " ['Spain' 27.0 48000.0]\n",
      " ['Germany' 30.0 54000.0]\n",
      " ['Spain' 38.0 61000.0]\n",
      " ['Germany' 40.0 63777.77777777778]\n",
      " ['France' 35.0 58000.0]\n",
      " ['Spain' 38.77777777777778 52000.0]\n",
      " ['France' 48.0 79000.0]\n",
      " ['Germany' 50.0 83000.0]\n",
      " ['France' 37.0 67000.0]]\n"
     ]
    }
   ],
   "source": [
    "# Taking Care of Missing Data\n",
    "\n",
    "from sklearn.impute import SimpleImputer\n",
    "imputer = SimpleImputer(missing_values=np.nan, strategy='mean')\n",
    "imputer.fit(X[:,1:3])\n",
    "X[:,1:3] = imputer.transform(X[:,1:3])\n",
    "print(X)"
   ]
  },
  {
   "cell_type": "code",
   "execution_count": 7,
   "metadata": {},
   "outputs": [
    {
     "name": "stdout",
     "output_type": "stream",
     "text": [
      "X =  [[0.0 1.0 0.0 0.0 44.0 72000.0]\n",
      " [1.0 0.0 0.0 1.0 27.0 48000.0]\n",
      " [1.0 0.0 1.0 0.0 30.0 54000.0]\n",
      " [1.0 0.0 0.0 1.0 38.0 61000.0]\n",
      " [1.0 0.0 1.0 0.0 40.0 63777.77777777778]\n",
      " [0.0 1.0 0.0 0.0 35.0 58000.0]\n",
      " [1.0 0.0 0.0 1.0 38.77777777777778 52000.0]\n",
      " [0.0 1.0 0.0 0.0 48.0 79000.0]\n",
      " [1.0 0.0 1.0 0.0 50.0 83000.0]\n",
      " [0.0 1.0 0.0 0.0 37.0 67000.0]]\n",
      "Y =  [0 1 0 0 1 1 0 1 0 1]\n"
     ]
    }
   ],
   "source": [
    "# Encoding Categorical Data\n",
    "\n",
    "#Independent Variable Encoding\n",
    "from sklearn.compose import ColumnTransformer\n",
    "from sklearn.preprocessing import OneHotEncoder\n",
    "ct = ColumnTransformer(transformers=[('encoder',OneHotEncoder(),[0])], remainder='passthrough')\n",
    "X = np.array(ct.fit_transform(X))\n",
    "print(\"X = \",X)\n",
    "\n",
    "#Dependent Variable Encoding\n",
    "from sklearn.preprocessing import LabelEncoder\n",
    "le = LabelEncoder()\n",
    "Y=le.fit_transform(Y)\n",
    "print(\"Y = \",Y)"
   ]
  },
  {
   "cell_type": "code",
   "execution_count": 9,
   "metadata": {},
   "outputs": [
    {
     "name": "stdout",
     "output_type": "stream",
     "text": [
      "Training data X :\n",
      " [[1.0 0.0 0.0 1.0 38.77777777777778 52000.0]\n",
      " [1.0 0.0 1.0 0.0 40.0 63777.77777777778]\n",
      " [0.0 1.0 0.0 0.0 44.0 72000.0]\n",
      " [1.0 0.0 0.0 1.0 38.0 61000.0]\n",
      " [1.0 0.0 0.0 1.0 27.0 48000.0]\n",
      " [0.0 1.0 0.0 0.0 48.0 79000.0]\n",
      " [1.0 0.0 1.0 0.0 50.0 83000.0]\n",
      " [0.0 1.0 0.0 0.0 35.0 58000.0]]\n",
      "Testing data X :\n",
      " [[1.0 0.0 1.0 0.0 30.0 54000.0]\n",
      " [0.0 1.0 0.0 0.0 37.0 67000.0]]\n",
      "Training data Y :\n",
      " [0 1 0 0 1 1 0 1]\n",
      "Testing data Y :\n",
      " [0 1]\n"
     ]
    }
   ],
   "source": [
    "#Split Data into Training Set & Test Set\n",
    "\n",
    "from sklearn.model_selection import train_test_split\n",
    "X_train, X_test, Y_train, Y_test = train_test_split(X,Y,test_size=0.2,random_state=1)\n",
    "print(\"Training data X :\\n\",X_train)\n",
    "print(\"Testing data X :\\n\",X_test)\n",
    "print(\"Training data Y :\\n\",Y_train)\n",
    "print(\"Testing data Y :\\n\",Y_test)"
   ]
  },
  {
   "cell_type": "code",
   "execution_count": 10,
   "metadata": {},
   "outputs": [
    {
     "name": "stdout",
     "output_type": "stream",
     "text": [
      "Training data X :\n",
      " [[1.0 0.0 0.0 1.2909944487358056 -0.19159184384578545 -1.0781259408412425]\n",
      " [1.0 0.0 1.0 -0.7745966692414834 -0.014117293757057777\n",
      "  -0.07013167641635372]\n",
      " [0.0 1.0 0.0 -0.7745966692414834 0.566708506533324 0.633562432710455]\n",
      " [1.0 0.0 0.0 1.2909944487358056 -0.30453019390224867\n",
      "  -0.30786617274297867]\n",
      " [1.0 0.0 0.0 1.2909944487358056 -1.9018011447007988 -1.420463615551582]\n",
      " [0.0 1.0 0.0 -0.7745966692414834 1.1475343068237058 1.232653363453549]\n",
      " [1.0 0.0 1.0 -0.7745966692414834 1.4379472069688968 1.5749910381638885]\n",
      " [0.0 1.0 0.0 -0.7745966692414834 -0.7401495441200351 -0.5646194287757332]]\n",
      "Testing data X :\n",
      " [[1.0 0.0 1.0 -0.7745966692414834 -1.4661817944830124 -0.9069571034860727]\n",
      " [0.0 1.0 0.0 -0.7745966692414834 -0.44973664397484414 0.2056403393225306]]\n"
     ]
    }
   ],
   "source": [
    "# Feature Scaling\n",
    "\n",
    "from sklearn.preprocessing import StandardScaler\n",
    "sc = StandardScaler()\n",
    "X_train[:,3:] = sc.fit_transform(X_train[:,3:])\n",
    "X_test[:,3:] = sc.transform(X_test[:,3:])\n",
    "print(\"Training data X :\\n\",X_train)\n",
    "print(\"Testing data X :\\n\",X_test)"
   ]
  },
  {
   "cell_type": "markdown",
   "metadata": {},
   "source": []
  }
 ],
 "metadata": {
  "kernelspec": {
   "display_name": "Python 3",
   "language": "python",
   "name": "python3"
  },
  "language_info": {
   "codemirror_mode": {
    "name": "ipython",
    "version": 3
   },
   "file_extension": ".py",
   "mimetype": "text/x-python",
   "name": "python",
   "nbconvert_exporter": "python",
   "pygments_lexer": "ipython3",
   "version": "3.10.11"
  }
 },
 "nbformat": 4,
 "nbformat_minor": 2
}
